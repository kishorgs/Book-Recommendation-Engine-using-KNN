{
  "cells": [
    {
      "cell_type": "code",
      "execution_count": null,
      "metadata": {
        "id": "Y1onB6kUvo4Z"
      },
      "outputs": [],
      "source": [
        "# import libraries (you may add additional imports but you may not have to)\n",
        "import numpy as np\n",
        "import pandas as pd\n",
        "from scipy.sparse import csr_matrix\n",
        "from sklearn.neighbors import NearestNeighbors\n",
        "import matplotlib.pyplot as plt"
      ]
    },
    {
      "cell_type": "code",
      "execution_count": null,
      "metadata": {
        "id": "iAQGqqO_vo4d"
      },
      "outputs": [],
      "source": [
        "books_filename = 'BX-Books.csv'\n",
        "ratings_filename = 'BX-Book-Ratings.csv'"
      ]
    },
    {
      "cell_type": "code",
      "execution_count": null,
      "metadata": {
        "id": "NClILWOiEd6Q"
      },
      "outputs": [],
      "source": [
        "# import csv data into dataframes\n",
        "df_books = pd.read_csv(\n",
        "    books_filename,\n",
        "    encoding = \"ISO-8859-1\",\n",
        "    sep=\";\",\n",
        "    header=0,\n",
        "    names=['isbn', 'title', 'author'],\n",
        "    usecols=['isbn', 'title', 'author'],\n",
        "    dtype={'isbn': 'str', 'title': 'str', 'author': 'str'})\n",
        "\n",
        "df_ratings = pd.read_csv(\n",
        "    ratings_filename,\n",
        "    encoding = \"ISO-8859-1\",\n",
        "    sep=\";\",\n",
        "    header=0,\n",
        "    names=['user', 'isbn', 'rating'],\n",
        "    usecols=['user', 'isbn', 'rating'],\n",
        "    dtype={'user': 'int32', 'isbn': 'str', 'rating': 'float32'})"
      ]
    },
    {
      "cell_type": "code",
      "execution_count": null,
      "metadata": {
        "id": "xAcXjkCFCh0A"
      },
      "outputs": [],
      "source": [
        "# Cell 4: Data Preprocessing and KNN Model Setup\n",
        "\n",
        "# Filter users with at least 200 ratings\n",
        "user_counts = df_ratings['user'].value_counts()\n",
        "df_ratings_filtered = df_ratings[df_ratings['user'].isin(user_counts[user_counts >= 200].index)]\n",
        "\n",
        "# Filter books with at least 100 ratings\n",
        "book_counts = df_ratings_filtered['isbn'].value_counts()\n",
        "df_ratings_filtered = df_ratings_filtered[df_ratings_filtered['isbn'].isin(book_counts[book_counts >= 100].index)]\n",
        "\n",
        "# Merge ratings with book titles\n",
        "df_merged = pd.merge(df_ratings_filtered, df_books, on='isbn', how='inner')\n",
        "\n",
        "# Create user-book pivot table\n",
        "pivot_table = df_merged.pivot_table(index='title', columns='user', values='rating').fillna(0)\n",
        "\n",
        "# Convert to sparse matrix\n",
        "sparse_matrix = csr_matrix(pivot_table.values)\n",
        "\n",
        "# Initialize and fit KNN model\n",
        "model_knn = NearestNeighbors(metric='cosine', algorithm='brute', n_neighbors=6)\n",
        "model_knn.fit(sparse_matrix)\n",
        "\n",
        "# Store pivot table index for lookup\n",
        "book_titles = pivot_table.index"
      ]
    },
    {
      "cell_type": "code",
      "execution_count": null,
      "metadata": {
        "id": "f5ZUd-L1SQz7"
      },
      "outputs": [],
      "source": [
        "# Cell 5: Function to return recommended books\n",
        "def get_recommends(book=\"\"):\n",
        "    # Check if book exists in the dataset\n",
        "    if book not in book_titles:\n",
        "        return [book, []]  # Return empty recommendations if book not found\n",
        "    \n",
        "    # Get index of the book in the pivot table\n",
        "    book_idx = np.where(book_titles == book)[0][0]\n",
        "    \n",
        "    # Get distances and indices of 6 nearest neighbors (includes the book itself)\n",
        "    distances, indices = model_knn.kneighbors(sparse_matrix[book_idx], n_neighbors=6)\n",
        "    \n",
        "    # Prepare recommendations (exclude the input book, take top 5)\n",
        "    recommended_books = []\n",
        "    for i in range(1, 6):  # Start from 1 to skip the input book\n",
        "        neighbor_idx = indices[0][i]\n",
        "        neighbor_title = book_titles[neighbor_idx]\n",
        "        distance = distances[0][i]\n",
        "        recommended_books.append([neighbor_title, distance])\n",
        "    \n",
        "    # Return in the required format: [book_title, [[title1, dist1], [title2, dist2], ...]]\n",
        "    return [book, recommended_books]"
      ]
    },
    {
      "cell_type": "code",
      "execution_count": null,
      "metadata": {
        "id": "jd2SLCh8oxMh"
      },
      "outputs": [],
      "source": [
        "books = get_recommends(\"Where the Heart Is (Oprah's Book Club (Paperback))\")\n",
        "print(books)\n",
        "\n",
        "def test_book_recommendation():\n",
        "  test_pass = True\n",
        "  recommends = get_recommends(\"Where the Heart Is (Oprah's Book Club (Paperback))\")\n",
        "  if recommends[0] != \"Where the Heart Is (Oprah's Book Club (Paperback))\":\n",
        "    test_pass = False\n",
        "  recommended_books = [\"I'll Be Seeing You\", 'The Weight of Water', 'The Surgeon', 'I Know This Much Is True']\n",
        "  recommended_books_dist = [0.8, 0.77, 0.77, 0.77]\n",
        "  for i in range(2): \n",
        "    if recommends[1][i][0] not in recommended_books:\n",
        "      test_pass = False\n",
        "    if abs(recommends[1][i][1] - recommended_books_dist[i]) >= 0.05:\n",
        "      test_pass = False\n",
        "  if test_pass:\n",
        "    print(\"You passed the challenge! 🎉🎉🎉🎉🎉\")\n",
        "  else:\n",
        "    print(\"You haven't passed yet. Keep trying!\")\n",
        "\n",
        "test_book_recommendation()"
      ]
    }
  ],
  "metadata": {
    "colab": {
      "collapsed_sections": [],
      "name": "fcc_book_recommendation_knn.ipynb",
      "provenance": []
    },
    "kernelspec": {
      "display_name": "Python 3",
      "language": "python",
      "name": "python3"
    },
    "language_info": {
      "codemirror_mode": {
        "name": "ipython",
        "version": 3
      },
      "file_extension": ".py",
      "mimetype": "text/x-python",
      "name": "python",
      "nbconvert_exporter": "python",
      "pygments_lexer": "ipython3",
      "version": "3.6.5"
    }
  },
  "nbformat": 4,
  "nbformat_minor": 0
}
